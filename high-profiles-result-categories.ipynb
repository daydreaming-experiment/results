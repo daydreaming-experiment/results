{
 "metadata": {
  "name": "",
  "signature": "sha256:d5e49db100b8ca894c8d71cd35f0100b0ff990cff08608a83ba388874d23e172"
 },
 "nbformat": 3,
 "nbformat_minor": 0,
 "worksheets": [
  {
   "cells": [
    {
     "cell_type": "code",
     "collapsed": false,
     "input": [
      "import json\n",
      "import matplotlib.pyplot as plt\n",
      "%matplotlib inline\n",
      "import seaborn as sb\n",
      "import numpy as np\n",
      "import pandas as pd\n",
      "from pprint import pprint"
     ],
     "language": "python",
     "metadata": {},
     "outputs": [],
     "prompt_number": 12
    },
    {
     "cell_type": "code",
     "collapsed": false,
     "input": [
      "with open('results-latest.json', 'r') as r:\n",
      "    results = json.load(r)['results']\n",
      "with open('profiles-latest.json', 'r') as p:\n",
      "    profiles = json.load(p)['profiles']\n",
      "print \"{} results loaded\".format(len(results))"
     ],
     "language": "python",
     "metadata": {},
     "outputs": [
      {
       "output_type": "stream",
       "stream": "stdout",
       "text": [
        "4972 results loaded\n"
       ]
      }
     ],
     "prompt_number": 2
    },
    {
     "cell_type": "code",
     "collapsed": false,
     "input": [
      "minAppVersionCode = 50\n",
      "parametersVersion = '3.1-production-2'\n",
      "min_n_results = 10\n",
      "good_profiles = [p for p in profiles\n",
      "                 if p['profile_data'].get('appVersionCode') >= minAppVersionCode\n",
      "                 and '+' not in p['profile_data'].get('appVersionName')\n",
      "                 and p['n_results'] >= min_n_results\n",
      "                 and p['profile_data'].get('parametersVersion') == parametersVersion]\n",
      "good_profile_ids = [p['id'] for p in good_profiles]\n",
      "print (\"{n_profiles} profiles worth keeping (>= {min_n_results} results, \"\n",
      "       \"appVersionCode >= {minAppVersionCode}, parametersVersion == {parametersVersion})\").format(\n",
      "            n_profiles=len(good_profiles), min_n_results=min_n_results, \n",
      "            minAppVersionCode=minAppVersionCode, parametersVersion=parametersVersion)"
     ],
     "language": "python",
     "metadata": {},
     "outputs": [
      {
       "output_type": "stream",
       "stream": "stdout",
       "text": [
        "13 profiles worth keeping (>= 10 results, appVersionCode >= 50, parametersVersion == 3.1-production-2)\n"
       ]
      }
     ],
     "prompt_number": 3
    },
    {
     "cell_type": "code",
     "collapsed": false,
     "input": [
      "good_results = [r for r in results if r['profile_id'] in good_profile_ids]\n",
      "print \"{} results uploaded by those good profiles\".format(len(good_results))"
     ],
     "language": "python",
     "metadata": {},
     "outputs": [
      {
       "output_type": "stream",
       "stream": "stdout",
       "text": [
        "2320 results uploaded by those good profiles\n"
       ]
      }
     ],
     "prompt_number": 4
    },
    {
     "cell_type": "code",
     "collapsed": false,
     "input": [
      "ordered_profiles = sorted(good_profiles, key=lambda pr: pr['n_results'], reverse=True)"
     ],
     "language": "python",
     "metadata": {},
     "outputs": [],
     "prompt_number": 9
    },
    {
     "cell_type": "code",
     "collapsed": false,
     "input": [
      "for p in ordered_profiles:\n",
      "    n_processed = 0\n",
      "    types = {}\n",
      "    dates = []\n",
      "    for r in good_results:\n",
      "        if r['profile_id'] != p['id']:\n",
      "            continue\n",
      "        dates.append(r['created_at'])\n",
      "        if 'locationLatitude' in r['result_data']:\n",
      "            try:\n",
      "                types['location'] += 1\n",
      "            except KeyError:\n",
      "                types['location'] = 1\n",
      "        elif 'pageGroups' in r['result_data']:\n",
      "            try:\n",
      "                types[r['result_data']['type']] += 1\n",
      "            except KeyError:\n",
      "                types[r['result_data']['type']] = 1\n",
      "        n_processed += 1\n",
      "    print \"## Profile {} ({}/{} results processed)\".format(p['id'][:10] + '...', n_processed, p['n_results'])\n",
      "    print\n",
      "    print \" # From {} to {}\".format(min(dates)[:10], max(dates)[:10])\n",
      "    print\n",
      "    for k, v in types.iteritems():\n",
      "        print \"   {}: {}\".format(k, v)\n",
      "    print\n",
      "    print"
     ],
     "language": "python",
     "metadata": {},
     "outputs": [
      {
       "output_type": "stream",
       "stream": "stdout",
       "text": [
        "## Profile 961b47044c... (811/811 results processed)\n",
        "\n",
        " # From 2014-10-16 to 2014-10-24\n",
        "\n",
        "   beginQuestionnaire: 6\n",
        "   location: 804\n",
        "   eveningQuestionnaire: 1\n",
        "\n",
        "\n",
        "## Profile c070b9bd19... (422/422 results processed)\n",
        "\n",
        " # From 2014-10-17 to 2014-10-24\n",
        "\n",
        "   location: 422\n",
        "\n",
        "\n",
        "## Profile 2b905d793a... (295/295 results processed)\n",
        "\n",
        " # From 2014-10-18 to 2014-10-24\n",
        "\n",
        "   probe: 1\n",
        "   morningQuestionnaire: 1\n",
        "   beginQuestionnaire: 3\n",
        "   location: 290\n",
        "\n",
        "\n",
        "## Profile 00f8d2cf1c... (253/253 results processed)\n",
        "\n",
        " # From 2014-10-16 to 2014-10-23\n",
        "\n",
        "   probe: 6\n",
        "   morningQuestionnaire: 6\n",
        "   beginQuestionnaire: 3\n",
        "   location: 233\n",
        "   eveningQuestionnaire: 5\n",
        "\n",
        "\n",
        "## Profile 4067dd4b27... (200/200 results processed)\n",
        "\n",
        " # From 2014-10-20 to 2014-10-24\n",
        "\n",
        "   morningQuestionnaire: 2\n",
        "   probe: 10\n",
        "   beginQuestionnaire: 3\n",
        "   location: 180\n",
        "   eveningQuestionnaire: 5\n",
        "\n",
        "\n",
        "## Profile 84b20a6fbc... (165/165 results processed)\n",
        "\n",
        " # From 2014-10-16 to 2014-10-18\n",
        "\n",
        "   probe: 3\n",
        "   beginQuestionnaire: 3\n",
        "   location: 157\n",
        "   eveningQuestionnaire: 2\n",
        "\n",
        "\n",
        "## Profile 1ddc4817e1... (36/36 results processed)\n",
        "\n",
        " # From 2014-10-17 to 2014-10-24\n",
        "\n",
        "   morningQuestionnaire: 7\n",
        "   probe: 19\n",
        "   beginQuestionnaire: 3\n",
        "   eveningQuestionnaire: 7\n",
        "\n",
        "\n",
        "## Profile 5d1c045624... (33/33 results processed)\n",
        "\n",
        " # From 2014-10-17 to 2014-10-24\n",
        "\n",
        "   probe: 15\n",
        "   morningQuestionnaire: 8\n",
        "   beginQuestionnaire: 3\n",
        "   eveningQuestionnaire: 7\n",
        "\n",
        "\n",
        "## Profile a5f63f9e30... (27/27 results processed)\n",
        "\n",
        " # From 2014-10-16 to 2014-10-24\n",
        "\n",
        "   morningQuestionnaire: 8\n",
        "   probe: 8\n",
        "   beginQuestionnaire: 3\n",
        "   eveningQuestionnaire: 8\n",
        "\n",
        "\n",
        "## Profile 91a1be5e06... (26/26 results processed)\n",
        "\n",
        " # From 2014-10-18 to 2014-10-24\n",
        "\n",
        "   morningQuestionnaire: 4\n",
        "   probe: 15\n",
        "   beginQuestionnaire: 3\n",
        "   eveningQuestionnaire: 4\n",
        "\n",
        "\n",
        "## Profile 7c713e0d3e... (19/19 results processed)\n",
        "\n",
        " # From 2014-10-23 to 2014-10-24\n",
        "\n",
        "   probe: 1\n",
        "   beginQuestionnaire: 3\n",
        "   location: 15\n",
        "\n",
        "\n",
        "## Profile 4efa0d298a... (17/17 results processed)\n",
        "\n",
        " # From 2014-10-16 to 2014-10-22\n",
        "\n",
        "   probe: 10\n",
        "   morningQuestionnaire: 1\n",
        "   beginQuestionnaire: 3\n",
        "   eveningQuestionnaire: 3\n",
        "\n",
        "\n",
        "## Profile 386a7d82e7... (16/16 results processed)\n",
        "\n",
        " # From 2014-10-22 to 2014-10-24\n",
        "\n",
        "   probe: 1\n",
        "   morningQuestionnaire: 2\n",
        "   beginQuestionnaire: 3\n",
        "   location: 8\n",
        "   eveningQuestionnaire: 2\n",
        "\n",
        "\n"
       ]
      }
     ],
     "prompt_number": 21
    },
    {
     "cell_type": "code",
     "collapsed": false,
     "input": [],
     "language": "python",
     "metadata": {},
     "outputs": []
    }
   ],
   "metadata": {}
  }
 ]
}