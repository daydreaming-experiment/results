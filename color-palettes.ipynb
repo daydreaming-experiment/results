{
 "metadata": {
  "name": "",
  "signature": "sha256:4d8e50fac5e5976bc610c116f92515737b1df1b5ad7849330b5c6562ba27d3f3"
 },
 "nbformat": 3,
 "nbformat_minor": 0,
 "worksheets": [
  {
   "cells": [
    {
     "cell_type": "code",
     "collapsed": false,
     "input": [
      "import seaborn as sb\n",
      "import matplotlib as mpl\n",
      "import matplotlib.pyplot as plt\n",
      "import numpy as np\n",
      "%matplotlib inline\n",
      "\n",
      "def bg_palplot(bg, pal, size=1):\n",
      "    n = len(pal)\n",
      "    f, ax = plt.subplots(1, 1, figsize=(n * size, size), facecolor=bg)\n",
      "    ax.imshow(np.arange(n).reshape(1, n),\n",
      "              cmap=mpl.colors.ListedColormap(list(pal)),\n",
      "              interpolation=\"nearest\", aspect=\"auto\")\n",
      "    ax.set_xticks(np.arange(n) - .5)\n",
      "    ax.set_yticks([-.5, .5])\n",
      "    ax.set_xticklabels([])\n",
      "    ax.set_yticklabels([])"
     ],
     "language": "python",
     "metadata": {},
     "outputs": [],
     "prompt_number": 1
    },
    {
     "cell_type": "markdown",
     "metadata": {},
     "source": [
      "## 4 shades of grey"
     ]
    },
    {
     "cell_type": "code",
     "collapsed": false,
     "input": [
      "colors = [\"#EBFBFF\", \"#C3D1D4\", \"#9BA6A8\", \"#737B7D\"]\n",
      "bg_palplot(\"#00A2D4\", sb.color_palette(colors, len(colors)))"
     ],
     "language": "python",
     "metadata": {},
     "outputs": [
      {
       "metadata": {},
       "output_type": "display_data",
       "png": "[encoded data removed]",
       "text": [
        "<matplotlib.figure.Figure at 0x7fbfe01c8490>"
       ]
      }
     ],
     "prompt_number": 2
    },
    {
     "cell_type": "markdown",
     "metadata": {},
     "source": [
      "## 5 shades of grey"
     ]
    },
    {
     "cell_type": "code",
     "collapsed": false,
     "input": [
      "colors = [\"#EBFBFF\", \"#CEDDE0\", \"#B2BFC2\", \"#96A1A3\", \"#7A8385\"]\n",
      "bg_palplot(\"#00A2D4\", sb.color_palette(colors, len(colors)))"
     ],
     "language": "python",
     "metadata": {},
     "outputs": [
      {
       "metadata": {},
       "output_type": "display_data",
       "png": "[encoded data removed]",
       "text": [
        "<matplotlib.figure.Figure at 0x7fbfba5e9950>"
       ]
      }
     ],
     "prompt_number": 3
    },
    {
     "cell_type": "markdown",
     "metadata": {},
     "source": [
      "## 3 colors for barplots"
     ]
    },
    {
     "cell_type": "code",
     "collapsed": false,
     "input": [
      "colors = [\"#DB5E56\", \"#DBC256\", \"#91DB56\"]\n",
      "bg_palplot(\"#00A2D4\", sb.color_palette(colors, len(colors)))"
     ],
     "language": "python",
     "metadata": {},
     "outputs": [
      {
       "metadata": {},
       "output_type": "display_data",
       "png": "[encoded data removed]",
       "text": [
        "<matplotlib.figure.Figure at 0x7fbfba5f3450>"
       ]
      }
     ],
     "prompt_number": 4
    },
    {
     "cell_type": "markdown",
     "metadata": {},
     "source": [
      "## 5 colors for barplots"
     ]
    },
    {
     "cell_type": "code",
     "collapsed": false,
     "input": [
      "colors = [\"#F67088\", \"#CE8F31\", \"#96A331\", \"#32B165\", \"#A38CF4\"]\n",
      "bg_palplot(\"#00A2D4\", sb.color_palette(colors, len(colors)))"
     ],
     "language": "python",
     "metadata": {},
     "outputs": [
      {
       "metadata": {},
       "output_type": "display_data",
       "png": "[encoded data removed]",
       "text": [
        "<matplotlib.figure.Figure at 0x7fbfba4156d0>"
       ]
      }
     ],
     "prompt_number": 6
    }
   ],
   "metadata": {}
  }
 ]
}