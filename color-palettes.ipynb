{
 "metadata": {
  "name": "",
  "signature": "sha256:1556ba1b62a2e1c67de22dbeb07e4366d6b7ec777f3cb60a5354ae85328ebbaa"
 },
 "nbformat": 3,
 "nbformat_minor": 0,
 "worksheets": [
  {
   "cells": [
    {
     "cell_type": "code",
     "collapsed": false,
     "input": [
      "import seaborn as sb\n",
      "import matplotlib as mpl\n",
      "import matplotlib.pyplot as plt\n",
      "import numpy as np\n",
      "%matplotlib inline\n",
      "\n",
      "def bg_palplot(bg, pal, size=1):\n",
      "    n = len(pal)\n",
      "    f, ax = plt.subplots(1, 1, figsize=(n * size, size), facecolor=bg)\n",
      "    ax.imshow(np.arange(n).reshape(1, n),\n",
      "              cmap=mpl.colors.ListedColormap(list(pal)),\n",
      "              interpolation=\"nearest\", aspect=\"auto\")\n",
      "    ax.set_xticks(np.arange(n) - .5)\n",
      "    ax.set_yticks([-.5, .5])\n",
      "    ax.set_xticklabels([])\n",
      "    ax.set_yticklabels([])"
     ],
     "language": "python",
     "metadata": {},
     "outputs": [],
     "prompt_number": 1
    },
    {
     "cell_type": "markdown",
     "metadata": {},
     "source": [
      "## 4 shades of grey"
     ]
    },
    {
     "cell_type": "code",
     "collapsed": false,
     "input": [
      "colors = [\"#EBFBFF\", \"#C3D1D4\", \"#9BA6A8\", \"#737B7D\"]\n",
      "bg_palplot(\"#00A2D4\", sb.color_palette(colors, len(colors)))"
     ],
     "language": "python",
     "metadata": {},
     "outputs": [
      {
       "metadata": {},
       "output_type": "display_data",
       "png": "[encoded data removed]",
       "text": [
        "<matplotlib.figure.Figure at 0x7f11ac5f0490>"
       ]
      }
     ],
     "prompt_number": 2
    },
    {
     "cell_type": "markdown",
     "metadata": {},
     "source": [
      "## 5 shades of grey"
     ]
    },
    {
     "cell_type": "code",
     "collapsed": false,
     "input": [
      "colors = [\"#EBFBFF\", \"#CEDDE0\", \"#B2BFC2\", \"#96A1A3\", \"#7A8385\"]\n",
      "bg_palplot(\"#00A2D4\", sb.color_palette(colors, len(colors)))"
     ],
     "language": "python",
     "metadata": {},
     "outputs": [
      {
       "metadata": {},
       "output_type": "display_data",
       "png": "[encoded data removed]",
       "text": [
        "<matplotlib.figure.Figure at 0x7f11869b7090>"
       ]
      }
     ],
     "prompt_number": 3
    },
    {
     "cell_type": "markdown",
     "metadata": {},
     "source": [
      "## 3 colors for barplots"
     ]
    },
    {
     "cell_type": "code",
     "collapsed": false,
     "input": [
      "colors = [\"#DB5E56\", \"#DBC256\", \"#91DB56\"]\n",
      "bg_palplot(\"#00A2D4\", sb.color_palette(colors, len(colors)))"
     ],
     "language": "python",
     "metadata": {},
     "outputs": [
      {
       "metadata": {},
       "output_type": "display_data",
       "png": "[encoded data removed]",
       "text": [
        "<matplotlib.figure.Figure at 0x7f1186931a10>"
       ]
      }
     ],
     "prompt_number": 4
    },
    {
     "cell_type": "markdown",
     "metadata": {},
     "source": [
      "## 5 colors for barplots"
     ]
    },
    {
     "cell_type": "code",
     "collapsed": false,
     "input": [
      "colors = [\"#F67088\", \"#CE8F31\", \"#96A331\", \"#32B165\", \"#A38CF4\"]\n",
      "bg_palplot(\"#00A2D4\", sb.color_palette(colors, len(colors)))"
     ],
     "language": "python",
     "metadata": {},
     "outputs": [
      {
       "metadata": {},
       "output_type": "display_data",
       "png": "[encoded data removed]",
       "text": [
        "<matplotlib.figure.Figure at 0x7f1186868850>"
       ]
      }
     ],
     "prompt_number": 5
    },
    {
     "cell_type": "markdown",
     "metadata": {},
     "source": [
      "## 4 shades of purple"
     ]
    },
    {
     "cell_type": "code",
     "collapsed": false,
     "input": [
      "bg_palplot(\"#00A2D4\", sb.color_palette(\"RdPu_r\", 4))"
     ],
     "language": "python",
     "metadata": {},
     "outputs": [
      {
       "metadata": {},
       "output_type": "display_data",
       "png": "[encoded data removed]",
       "text": [
        "<matplotlib.figure.Figure at 0x7f11866d6790>"
       ]
      }
     ],
     "prompt_number": 11
    },
    {
     "cell_type": "markdown",
     "metadata": {},
     "source": [
      "## 5 shades of purple"
     ]
    },
    {
     "cell_type": "code",
     "collapsed": false,
     "input": [
      "bg_palplot(\"#00A2D4\", sb.color_palette(\"RdPu_r\", 5))"
     ],
     "language": "python",
     "metadata": {},
     "outputs": [
      {
       "metadata": {},
       "output_type": "display_data",
       "png": "[encoded data removed]",
       "text": [
        "<matplotlib.figure.Figure at 0x7f11866fcc10>"
       ]
      }
     ],
     "prompt_number": 12
    },
    {
     "cell_type": "code",
     "collapsed": false,
     "input": [],
     "language": "python",
     "metadata": {},
     "outputs": []
    }
   ],
   "metadata": {}
  }
 ]
}