{
 "metadata": {
  "name": "",
  "signature": "sha256:a638f9d7d996ef677863325d77a28c2bd4af9675be5373f52645f4c6cac7ec69"
 },
 "nbformat": 3,
 "nbformat_minor": 0,
 "worksheets": [
  {
   "cells": [
    {
     "cell_type": "code",
     "collapsed": false,
     "input": [
      "%pylab inline"
     ],
     "language": "python",
     "metadata": {},
     "outputs": []
    },
    {
     "cell_type": "markdown",
     "metadata": {},
     "source": [
      "### Pie chart Locations"
     ]
    },
    {
     "cell_type": "code",
     "collapsed": false,
     "input": [
      "figure(1, figsize=(6,6))\n",
      "ax = axes([0.1, 0.1, 0.8, 0.8])\n",
      "labels = 'Commuting', 'Home', 'Outside', 'Public place', 'Work'\n",
      "n_labels = len(labels)\n",
      "fracs = np.random.random((n_labels,))\n",
      "explode = np.zeros((n_labels,))\n",
      "pie(fracs, explode=explode, labels=labels,\n",
      "                autopct='%1.1f%%', shadow=True, startangle=90)\n",
      "title('Locations when probed', bbox={'facecolor':'0.8', 'pad':5})\n",
      "show()"
     ],
     "language": "python",
     "metadata": {},
     "outputs": []
    }
   ],
   "metadata": {}
  }
 ]
}