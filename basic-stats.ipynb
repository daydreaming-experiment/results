{
 "metadata": {
  "name": "",
  "signature": "sha256:3b8468058d48a6b1d8a875f188fafa527edfba5f400e30bf895d348f6d14b220"
 },
 "nbformat": 3,
 "nbformat_minor": 0,
 "worksheets": [
  {
   "cells": [
    {
     "cell_type": "code",
     "collapsed": false,
     "input": [
      "import json\n",
      "import matplotlib.pyplot as plt\n",
      "%matplotlib inline\n",
      "import seaborn as sb\n",
      "import numpy as np\n",
      "import pandas as pd"
     ],
     "language": "python",
     "metadata": {},
     "outputs": []
    },
    {
     "cell_type": "code",
     "collapsed": false,
     "input": [
      "with open('results-latest.json', 'r') as r:\n",
      "    results = json.load(r)['results']\n",
      "with open('profiles-latest.json', 'r') as p:\n",
      "    profiles = json.load(p)['profiles']\n",
      "print \"{} results loaded\".format(len(results))"
     ],
     "language": "python",
     "metadata": {},
     "outputs": []
    },
    {
     "cell_type": "code",
     "collapsed": false,
     "input": [
      "minAppVersionCode = 50\n",
      "parametersVersion = '3.1-production-2'\n",
      "min_n_results = 10\n",
      "good_profiles = [p for p in profiles\n",
      "                 if p['profile_data'].get('appVersionCode') >= minAppVersionCode\n",
      "                 and '+' not in p['profile_data'].get('appVersionName')\n",
      "                 and p['n_results'] >= min_n_results\n",
      "                 and p['profile_data'].get('parametersVersion') == parametersVersion]\n",
      "good_profile_ids = [p['id'] for p in good_profiles]\n",
      "print (\"{n_profiles} profiles worth keeping (>= {min_n_results} results, \"\n",
      "       \"appVersionCode >= {minAppVersionCode}, parametersVersion == {parametersVersion})\").format(\n",
      "            n_profiles=len(good_profiles), min_n_results=min_n_results, \n",
      "            minAppVersionCode=minAppVersionCode, parametersVersion=parametersVersion)"
     ],
     "language": "python",
     "metadata": {},
     "outputs": []
    },
    {
     "cell_type": "code",
     "collapsed": false,
     "input": [
      "good_results = [r for r in results if r['profile_id'] in good_profile_ids]\n",
      "print \"{} results uploaded by those good profiles\".format(len(good_results))"
     ],
     "language": "python",
     "metadata": {},
     "outputs": []
    },
    {
     "cell_type": "code",
     "collapsed": false,
     "input": [
      "all_n_results = [p['n_results'] for p in profiles]\n",
      "plt.hist(all_n_results, 100);\n",
      "plt.title(\"Histogram of #results uploaded per profile\")"
     ],
     "language": "python",
     "metadata": {},
     "outputs": []
    },
    {
     "cell_type": "code",
     "collapsed": false,
     "input": [
      "def get_by_field(l, name, value):\n",
      "    values = [item.get(name) for item in l]\n",
      "    c = values.count(value)\n",
      "    if c == 0:\n",
      "        raise ValueError(\"'{}' == {} not found\".format(name, value))\n",
      "    if c > 1:\n",
      "        raise ValueError(\"'{}' == {} found {} times\".format(name, value, c))\n",
      "    return l[values.index(value)]"
     ],
     "language": "python",
     "metadata": {},
     "outputs": []
    },
    {
     "cell_type": "code",
     "collapsed": false,
     "input": [
      "focus_data = {'profile_id': [],\n",
      "              'focus': [],\n",
      "              'surroundings': [],\n",
      "              'location': []}\n",
      "\n",
      "for r in good_results:\n",
      "    if r['result_data'].get('type') == 'probe' and r['result_data'].get('status') == 'completed':\n",
      "        thought_page = get_by_field(r['result_data']['pageGroups'], 'name', 'thought')['pages'][0]\n",
      "        thought_focus_sliders = get_by_field(thought_page['questions'], 'questionName',\n",
      "                                             'probe.thought.focus')['answer']['sliders']\n",
      "        thought_surroundings_sliders = get_by_field(thought_page['questions'], 'questionName', \n",
      "                                                    'probe.thought.surround')['answer']['sliders']\n",
      "        locations = get_by_field(get_by_field(r['result_data']['pageGroups'], 'name', 'context')['pages'],\n",
      "                                'name', 'location')['questions'][0]['answer']['choices']\n",
      "        for loc in locations:\n",
      "            focus_data['profile_id'].append(r['profile_id'])\n",
      "            focus_data['focus'].append(thought_focus_sliders['How focused were you on what you were doing?'])\n",
      "            focus_data['surroundings'].append(thought_surroundings_sliders['How aware were you of your surroundings?'])\n",
      "            focus_data['location'].append(loc)\n",
      "focus = pd.DataFrame(focus_data)"
     ],
     "language": "python",
     "metadata": {},
     "outputs": []
    },
    {
     "cell_type": "code",
     "collapsed": false,
     "input": [
      "sb.pairplot(focus, hue='location')\n",
      "plt.title(\"Focus and awareness of surroundings depending on location\")"
     ],
     "language": "python",
     "metadata": {},
     "outputs": []
    }
   ],
   "metadata": {}
  }
 ]
}