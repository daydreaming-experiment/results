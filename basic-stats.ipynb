{
 "metadata": {
  "name": "",
  "signature": "sha256:9584a7324c1beb2a754ddb62b821d144d0b5600352953f4db8e20e2f6612ef95"
 },
 "nbformat": 3,
 "nbformat_minor": 0,
 "worksheets": [
  {
   "cells": [
    {
     "cell_type": "code",
     "collapsed": false,
     "input": [
      "import json\n",
      "import matplotlib.pyplot as plt\n",
      "%matplotlib inline\n",
      "import seaborn as sb\n",
      "import numpy as np\n",
      "import pandas as pd"
     ],
     "language": "python",
     "metadata": {},
     "outputs": [],
     "prompt_number": 1
    },
    {
     "cell_type": "code",
     "collapsed": false,
     "input": [
      "with open('results-latest.json', 'r') as r:\n",
      "    results = json.load(r)['results']\n",
      "with open('profiles-latest.json', 'r') as p:\n",
      "    profiles = json.load(p)['profiles']\n",
      "print \"{} results loaded\".format(len(results))"
     ],
     "language": "python",
     "metadata": {},
     "outputs": [
      {
       "output_type": "stream",
       "stream": "stdout",
       "text": [
        "2662 results loaded\n"
       ]
      }
     ],
     "prompt_number": 2
    },
    {
     "cell_type": "code",
     "collapsed": false,
     "input": [
      "profiles[:3]"
     ],
     "language": "python",
     "metadata": {},
     "outputs": [
      {
       "metadata": {},
       "output_type": "pyout",
       "prompt_number": 3,
       "text": [
        "[{u'device_id': None,\n",
        "  u'exp_id': u'3ae001dcc2e34a024880f455070a6ebae53cf7f760edd5592a4b7ec4b65d7e49',\n",
        "  u'id': u'9f0a73c5c0b837950db43435f5b8b54b704c69242b33121697ad2aa6854226bf',\n",
        "  u'n_results': 0,\n",
        "  u'profile_data': {u'age': u'25\\u201329',\n",
        "   u'appVersionCode': 43,\n",
        "   u'appVersionName': u'0.23.0+qa',\n",
        "   u'education': u'Advanced Degree (MA, PhD, etc.)',\n",
        "   u'gender': u'Male',\n",
        "   u'mode': u'production',\n",
        "   u'parametersVersion': u'3-production-19'},\n",
        "  u'vk_pem': u'-----BEGIN PUBLIC KEY-----\\nMFkwEwYHKoZIzj0CAQYIKoZIzj0DAQcDQgAEfrza1UfzsSLKHLAdYrJjnBmoAtY4\\n0DrJSsB1aBsTjTvHWk9VMG8wP6b04Kn/bM8LWYFJ+MdDlHxEKK2vRgWKNQ==\\n-----END PUBLIC KEY-----\\n'},\n",
        " {u'device_id': None,\n",
        "  u'exp_id': u'3ae001dcc2e34a024880f455070a6ebae53cf7f760edd5592a4b7ec4b65d7e49',\n",
        "  u'id': u'f1abf98813e55117391bb0e241712991a9c9775700f1b24b52886f1cb2ea834e',\n",
        "  u'n_results': 2,\n",
        "  u'profile_data': {u'age': u'18\\u201324',\n",
        "   u'appVersionCode': 43,\n",
        "   u'appVersionName': u'0.23.0+qa',\n",
        "   u'education': u'Advanced Degree (MA, PhD, etc.)',\n",
        "   u'gender': u'Female',\n",
        "   u'mode': u'test',\n",
        "   u'parametersVersion': u'3-test-19'},\n",
        "  u'vk_pem': u'-----BEGIN PUBLIC KEY-----\\nMFkwEwYHKoZIzj0CAQYIKoZIzj0DAQcDQgAEy7LBA6nZn9A9eDVFp1/1FQZ2cYCb\\nl08gjL30OPu2BJtkI4QvFn4iJ9dPtee10hCPus41BXXXrpHnTPR/ZcHfXA==\\n-----END PUBLIC KEY-----\\n'},\n",
        " {u'device_id': None,\n",
        "  u'exp_id': u'3ae001dcc2e34a024880f455070a6ebae53cf7f760edd5592a4b7ec4b65d7e49',\n",
        "  u'id': u'b3b207f2bd6106fd9a2580abbf311a9e5774a868963b37156745a3dd49f806f0',\n",
        "  u'n_results': 0,\n",
        "  u'profile_data': {u'age': u'Under 18',\n",
        "   u'appVersionCode': 43,\n",
        "   u'appVersionName': u'0.23.0+debug',\n",
        "   u'education': u'University Degree',\n",
        "   u'gender': u'Female',\n",
        "   u'mode': u'production',\n",
        "   u'parametersVersion': u'3-production-19'},\n",
        "  u'vk_pem': u'-----BEGIN PUBLIC KEY-----\\nMFkwEwYHKoZIzj0CAQYIKoZIzj0DAQcDQgAEQNNr8JIZJGAQVgzO7JTf8fqmwk4K\\nM8WZSNFkshsCPq/YOPy3u3t6ZkOD3HjI+woqhZTV2eQdwm6lgG6BIf0/5Q==\\n-----END PUBLIC KEY-----\\n'}]"
       ]
      }
     ],
     "prompt_number": 3
    },
    {
     "cell_type": "code",
     "collapsed": false,
     "input": [
      "minAppVersionCode = 50\n",
      "parametersVersion = '3.1-production-2'\n",
      "min_n_results = 10\n",
      "good_profiles = [p for p in profiles\n",
      "                 if p['profile_data'].get('appVersionCode') >= minAppVersionCode\n",
      "                 and '+' not in p['profile_data'].get('appVersionName')\n",
      "                 and p['n_results'] >= min_n_results\n",
      "                 and p['profile_data'].get('parametersVersion') == parametersVersion]\n",
      "good_profile_ids = [p['id'] for p in good_profiles]\n",
      "print (\"{n_profiles} profiles worth keeping (>= {min_n_results} results, \"\n",
      "       \"appVersionCode >= {minAppVersionCode}, parametersVersion == {parametersVersion})\").format(\n",
      "            n_profiles=len(good_profiles), min_n_results=min_n_results, \n",
      "            minAppVersionCode=minAppVersionCode, parametersVersion=parametersVersion)"
     ],
     "language": "python",
     "metadata": {},
     "outputs": [
      {
       "output_type": "stream",
       "stream": "stdout",
       "text": [
        "10 profiles worth keeping (>= 10 results, appVersionCode >= 50, parametersVersion == 3.1-production-2)\n"
       ]
      }
     ],
     "prompt_number": 4
    },
    {
     "cell_type": "code",
     "collapsed": false,
     "input": [
      "good_results = [r for r in results if r['profile_id'] in good_profile_ids]\n",
      "print \"{} results uploaded by those good profiles\".format(len(good_results))"
     ],
     "language": "python",
     "metadata": {},
     "outputs": [
      {
       "output_type": "stream",
       "stream": "stdout",
       "text": [
        "782 results uploaded by those good profiles\n"
       ]
      }
     ],
     "prompt_number": 5
    },
    {
     "cell_type": "code",
     "collapsed": false,
     "input": [
      "all_n_results = [p['n_results'] for p in profiles]\n",
      "plt.hist(all_n_results, 100);\n",
      "plt.title(\"Histogram of #results uploaded per profile\")"
     ],
     "language": "python",
     "metadata": {},
     "outputs": [
      {
       "metadata": {},
       "output_type": "pyout",
       "prompt_number": 6,
       "text": [
        "<matplotlib.text.Text at 0x7fe3444b31d0>"
       ]
      },
      {
       "metadata": {},
       "output_type": "display_data",
       "png": "[encoded data removed]",
       "text": [
        "<matplotlib.figure.Figure at 0x7fe3447b6790>"
       ]
      }
     ],
     "prompt_number": 6
    },
    {
     "cell_type": "code",
     "collapsed": false,
     "input": [
      "def get_by_field(l, name, value):\n",
      "    values = [item.get(name) for item in l]\n",
      "    c = values.count(value)\n",
      "    if c == 0:\n",
      "        raise ValueError(\"'{}' == {} not found\".format(name, value))\n",
      "    if c > 1:\n",
      "        raise ValueError(\"'{}' == {} found {} times\".format(name, value, c))\n",
      "    return l[values.index(value)]"
     ],
     "language": "python",
     "metadata": {},
     "outputs": [],
     "prompt_number": 7
    },
    {
     "cell_type": "code",
     "collapsed": false,
     "input": [
      "focus_data = {'profile_id': [],\n",
      "              'focus': [],\n",
      "              'surroundings': [],\n",
      "              'location': []}\n",
      "\n",
      "for r in good_results:\n",
      "    if r['result_data'].get('type') == 'probe' and r['result_data'].get('status') == 'completed':\n",
      "        thought_page = get_by_field(r['result_data']['pageGroups'], 'name', 'thought')['pages'][0]\n",
      "        thought_focus_sliders = get_by_field(thought_page['questions'], 'questionName',\n",
      "                                             'probe.thought.focus')['answer']['sliders']\n",
      "        thought_surroundings_sliders = get_by_field(thought_page['questions'], 'questionName', \n",
      "                                                    'probe.thought.surround')['answer']['sliders']\n",
      "        locations = get_by_field(get_by_field(r['result_data']['pageGroups'], 'name', 'context')['pages'],\n",
      "                                'name', 'location')['questions'][0]['answer']['choices']\n",
      "        for loc in locations:\n",
      "            focus_data['profile_id'].append(r['profile_id'])\n",
      "            focus_data['focus'].append(thought_focus_sliders['How focused were you on what you were doing?'])\n",
      "            focus_data['surroundings'].append(thought_surroundings_sliders['How aware were you of your surroundings?'])\n",
      "            focus_data['location'].append(loc)\n",
      "focus = pd.DataFrame(focus_data)"
     ],
     "language": "python",
     "metadata": {},
     "outputs": [],
     "prompt_number": 8
    },
    {
     "cell_type": "code",
     "collapsed": false,
     "input": [
      "sb.pairplot(focus, hue='location')\n",
      "plt.title(\"Focus and awareness of surroundings depending on location\")"
     ],
     "language": "python",
     "metadata": {},
     "outputs": [
      {
       "metadata": {},
       "output_type": "pyout",
       "prompt_number": 9,
       "text": [
        "<matplotlib.text.Text at 0x7fe343242e50>"
       ]
      },
      {
       "metadata": {},
       "output_type": "display_data",
       "png": "[encoded data removed]",
       "text": [
        "<matplotlib.figure.Figure at 0x7fe34448f850>"
       ]
      }
     ],
     "prompt_number": 9
    },
    {
     "cell_type": "code",
     "collapsed": false,
     "input": [],
     "language": "python",
     "metadata": {},
     "outputs": [],
     "prompt_number": 9
    }
   ],
   "metadata": {}
  }
 ]
}