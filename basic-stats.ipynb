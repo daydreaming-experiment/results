{
 "metadata": {
  "name": "",
  "signature": "sha256:1f89763eb68cc59040e1ff72ce0409639e93bf22216325937489902d25edd5fe"
 },
 "nbformat": 3,
 "nbformat_minor": 0,
 "worksheets": [
  {
   "cells": [
    {
     "cell_type": "code",
     "collapsed": false,
     "input": [
      "import json\n",
      "import matplotlib.pyplot as plt\n",
      "%matplotlib inline\n",
      "import seaborn as sb\n",
      "import numpy as np\n",
      "import pandas as pd"
     ],
     "language": "python",
     "metadata": {},
     "outputs": [],
     "prompt_number": 1
    },
    {
     "cell_type": "code",
     "collapsed": false,
     "input": [
      "with open('results-latest.json', 'r') as r:\n",
      "    results = json.load(r)['results']\n",
      "with open('profiles-latest.json', 'r') as p:\n",
      "    profiles = json.load(p)['profiles']\n",
      "len(results)"
     ],
     "language": "python",
     "metadata": {},
     "outputs": [
      {
       "metadata": {},
       "output_type": "pyout",
       "prompt_number": 2,
       "text": [
        "2176"
       ]
      }
     ],
     "prompt_number": 2
    },
    {
     "cell_type": "code",
     "collapsed": false,
     "input": [
      "good_profiles = [p for p in profiles\n",
      "                 if p['profile_data'].get('appVersionCode') >= 50\n",
      "                 and '+' not in p['profile_data'].get('appVersionName')\n",
      "                 and p['n_results'] >= 10]\n",
      "good_profile_ids = [p['id'] for p in good_profiles]\n",
      "len(good_profiles)"
     ],
     "language": "python",
     "metadata": {},
     "outputs": [
      {
       "metadata": {},
       "output_type": "pyout",
       "prompt_number": 3,
       "text": [
        "6"
       ]
      }
     ],
     "prompt_number": 3
    },
    {
     "cell_type": "code",
     "collapsed": false,
     "input": [
      "good_results = [r for r in results if r['profile_id'] in good_profile_ids]\n",
      "len(good_results)"
     ],
     "language": "python",
     "metadata": {},
     "outputs": [
      {
       "metadata": {},
       "output_type": "pyout",
       "prompt_number": 4,
       "text": [
        "467"
       ]
      }
     ],
     "prompt_number": 4
    },
    {
     "cell_type": "code",
     "collapsed": false,
     "input": [
      "all_n_results = [p['n_results'] for p in profiles]\n",
      "plt.hist(all_n_results, 100);"
     ],
     "language": "python",
     "metadata": {},
     "outputs": [
      {
       "metadata": {},
       "output_type": "display_data",
       "png": "[encoded data removed]",
       "text": [
        "<matplotlib.figure.Figure at 0x7f0de8338650>"
       ]
      }
     ],
     "prompt_number": 5
    },
    {
     "cell_type": "code",
     "collapsed": false,
     "input": [
      "def get_by_field(l, name, value):\n",
      "    values = [item.get(name) for item in l]\n",
      "    c = values.count(value)\n",
      "    if c == 0:\n",
      "        raise ValueError(\"'{}' == {} not found\".format(name, value))\n",
      "    if c > 1:\n",
      "        raise ValueError(\"'{}' == {} found {} times\".format(name, value, c))\n",
      "    return l[values.index(value)]"
     ],
     "language": "python",
     "metadata": {},
     "outputs": [],
     "prompt_number": 6
    },
    {
     "cell_type": "code",
     "collapsed": false,
     "input": [
      "focus_data = {'profile_id': [],\n",
      "              'focus': [],\n",
      "              'surroundings': [],\n",
      "              'location': []}\n",
      "\n",
      "for r in good_results:\n",
      "    if r['result_data'].get('type') == 'probe' and r['result_data'].get('status') == 'completed':\n",
      "        thought_page = get_by_field(r['result_data']['pageGroups'], 'name', 'thought')['pages'][0]\n",
      "        thought_focus_sliders = get_by_field(thought_page['questions'], 'questionName',\n",
      "                                             'probe.thought.focus')['answer']['sliders']\n",
      "        thought_surroundings_sliders = get_by_field(thought_page['questions'], 'questionName', \n",
      "                                                    'probe.thought.surround')['answer']['sliders']\n",
      "        locations = get_by_field(get_by_field(r['result_data']['pageGroups'], 'name', 'context')['pages'],\n",
      "                                'name', 'location')['questions'][0]['answer']['choices']\n",
      "        for loc in locations:\n",
      "            focus_data['profile_id'].append(r['profile_id'])\n",
      "            focus_data['focus'].append(thought_focus_sliders['How focused were you on what you were doing?'])\n",
      "            focus_data['surroundings'].append(thought_surroundings_sliders['How aware were you of your surroundings?'])\n",
      "            focus_data['location'].append(loc)\n",
      "focus = pd.DataFrame(focus_data)"
     ],
     "language": "python",
     "metadata": {},
     "outputs": [],
     "prompt_number": 10
    },
    {
     "cell_type": "code",
     "collapsed": false,
     "input": [
      "sb.pairplot(focus, hue='location')"
     ],
     "language": "python",
     "metadata": {},
     "outputs": [
      {
       "metadata": {},
       "output_type": "pyout",
       "prompt_number": 18,
       "text": [
        "<seaborn.axisgrid.PairGrid at 0x7f0dc1ba6f50>"
       ]
      },
      {
       "metadata": {},
       "output_type": "display_data",
       "png": "[encoded data removed]",
       "text": [
        "<matplotlib.figure.Figure at 0x7f0dc1ba6350>"
       ]
      }
     ],
     "prompt_number": 18
    },
    {
     "cell_type": "code",
     "collapsed": false,
     "input": [],
     "language": "python",
     "metadata": {},
     "outputs": []
    }
   ],
   "metadata": {}
  }
 ]
}